{
 "cells": [
  {
   "cell_type": "markdown",
   "metadata": {
    "id": "5yfXaJdLQycd"
   },
   "source": [
    "# **Reporte Hito 2**\n",
    "\n",
    "**Fecha:** Octubre 2022\n",
    "\n",
    "**Autores:** Armin Rodríguez, Rodrigo Valenzuela, Nicolás Hidalgo, Pablo Nahuelpán\n",
    "\n",
    "## Índice de contenidos\n",
    "* [Introducción](#item1)\n",
    "* [Cargando conjunto de datos y librerías](#item2)\n",
    "* [Limpieza de dataset](#item3)\n",
    "* [Exploración de Datos](#item4)\n",
    "* [Preguntas y Problemas](#item5)\n",
    "* [Propuesta Experimental](#item6)\n",
    "* [Experimento preliminar](#item7)\n",
    "* [Trabajo realizado](#item8)\n",
    "* [Referencias](#item9)\n",
    "* [Anexo](#item10)"
   ]
  },
  {
   "cell_type": "markdown",
   "metadata": {
    "id": "FWtFNPhqSrvk"
   },
   "source": [
    "<a name=\"item1\"></a>\n",
    "## Introducción\n",
    "\n",
    "Hearthstone es un juego de cartas coleccionables creado por la empresa Blizzard [1]. Este juego ha visto hasta 6.5 millones de jugadores concurrentes y debido a su popularidad sitios como Hearthpwn.com [2] fueron desarrollados para permitirle a los jugadores una herramienta para crear y compartir mazos de prueba.\n",
    "\n",
    "Heartpwn nos ha encargado con la búsqueda de factores que permitan clasificar mazos de cartas en categorías que no estaban definidas dentro de las diferentes plataformas que serán futuramente absorbidas por el sitio. Esto con el objetivo de clasificar los datos no cubiertos por ellas como los nuevos formatos de juegos implementados que son estándar y salvaje.\n",
    "\n",
    "En este reporte se analizarán resultados relacionados a la clasificación de mazos a través de las categorías provistas por parte de Heartpwn para asistir en la introducción de datos de mazos externos a su plataforma. El objetivo final siendo el desarrollo de uno o más modelos experimentales que puedan asistir a esta tarea.\n",
    "\n",
    "En el conjunto de datos se encuentran registrados distintos mazos subidos a la plataforma de Heartpwn desde el año 2013 hasta 2017 y fueron proporcionados por el sitio Kaggle [3].\n",
    "\n",
    "\n"
   ]
  },
  {
   "cell_type": "markdown",
   "metadata": {
    "id": "aCibNZqnVNKC"
   },
   "source": [
    "<a name=\"item2\"></a>\n",
    "## Cargando conjunto de datos y librerias\n",
    "Se realiza la carga del conjunto de datos [3] para trabajar."
   ]
  },
  {
   "cell_type": "code",
   "execution_count": 6,
   "metadata": {
    "id": "s2ZNVE9bRwXx"
   },
   "outputs": [],
   "source": [
    " #Se ejecuta para poder cargar código de R que teníamos anteriormente.\n",
    "import seaborn as sb\n",
    "import pandas as pd\n",
    "import matplotlib.pyplot as plt\n",
    "import warnings\n",
    "import collections\n",
    "import matplotlib.pyplot as plt\n",
    "import statsmodels.api as sm\n",
    "from collections import OrderedDict\n",
    "from sklearn.svm import SVC\n",
    "from sklearn.model_selection import train_test_split\n",
    "from sklearn import tree\n",
    "from sklearn import metrics\n",
    "from sklearn.metrics import confusion_matrix, classification_report, f1_score, cohen_kappa_score\n",
    "from sklearn.metrics import accuracy_score\n",
    "from sklearn import linear_model\n",
    "from sklearn import model_selection\n",
    "from sklearn.naive_bayes import GaussianNB\n",
    "import numpy as np\n",
    "\n",
    "warnings.filterwarnings(\"ignore\", category=FutureWarning)"
   ]
  },
  {
   "cell_type": "code",
   "execution_count": 7,
   "metadata": {
    "id": "_LPBLl5UlM_b"
   },
   "outputs": [],
   "source": [
    "%load_ext rpy2.ipython"
   ]
  },
  {
   "cell_type": "code",
   "execution_count": 8,
   "metadata": {
    "colab": {
     "base_uri": "https://localhost:8080/",
     "height": 0
    },
    "id": "SR343zNXSZpW",
    "outputId": "3d3e22ee-a41e-41e0-e212-d791d961d756"
   },
   "outputs": [
    {
     "name": "stdout",
     "output_type": "stream",
     "text": [
      "  craft_cost       date deck_archetype deck_class deck_format deck_id  deck_set\n",
      "1       9740 19/02/2016        Unknown     Priest           W  433004 Explorers\n",
      "2       9840 19/02/2016        Unknown    Warrior           W  433003 Explorers\n",
      "3       2600 19/02/2016        Unknown       Mage           W  433002 Explorers\n",
      "4      15600 19/02/2016        Unknown    Warrior           W  433001 Explorers\n",
      "5       7700 19/02/2016        Unknown    Paladin           W  432997 Explorers\n",
      "6       5740 19/02/2016        Unknown    Warrior           W  432995 Explorers\n",
      "     deck_type rating                           title         user card_0\n",
      "1 Tavern Brawl      1                     Reno Priest    FunKaliTy      9\n",
      "2  Ranked Deck      1                  RoosterWarrior RooosterRooo     75\n",
      "3  Theorycraft      1                        Annoying      Messalm    195\n",
      "4         None      0     Standart pay to win warrior    KingSneak     75\n",
      "5  Ranked Deck      1                         Palamix  kowdog_1507    476\n",
      "6  Ranked Deck      2 Kolento's Elise Control Warrior      Kolento     75\n",
      "  card_1 card_2 card_3 card_4 card_5 card_6 card_7 card_8 card_9 card_10\n",
      "1    237    279    545    613    791    797    841   1186   1189    1363\n",
      "2     75    285    401    401    546    546    596    596    635     635\n",
      "3    195    315    315    531    555    555    614    614    662     662\n",
      "4    290    304    338    401    401    546    546    581    785     785\n",
      "5    476    679    943    890    756   1073   1073   1167   1721    1753\n",
      "6     75    400    400    401    401    546    546    596    596     636\n",
      "  card_11 card_12 card_13 card_14 card_15 card_16 card_17 card_18 card_19\n",
      "1    1365    1367    1650    1933    1938    2040    2067    1935    2262\n",
      "2     785     785     810    1023    1186    1657    1659    1659    1721\n",
      "3    1084    1084    1659    1659    1753    1753    1783    1783    1793\n",
      "4     810     825     825     912    1023    1023    1074    1074    1186\n",
      "5    1783    1786    1786    1793    1793    1804    1804    2026    2026\n",
      "6     785     785     912    1023    1023    1657    1659    1659    1793\n",
      "  card_20 card_21 card_22 card_23 card_24 card_25 card_26 card_27 card_28\n",
      "1     374    2280    2511    2555    2566    2582    2683    2736    2568\n",
      "2    1781    1781    2021    2021    2064    2064    2078    2510    2729\n",
      "3    1793    1801    1801    2037    2037    2064    2064    2078   38710\n",
      "4    1657    1721    2018    2296    2262     336    2729    2729    2736\n",
      "5    2027    2029    2029    2064    2078     374    2717    2717    2889\n",
      "6    1793    1805    1805    1808    1808    2021    2729    2729    2736\n",
      "  card_29\n",
      "1    2883\n",
      "2    2736\n",
      "3   38710\n",
      "4    2760\n",
      "5    2889\n",
      "6    2951\n"
     ]
    }
   ],
   "source": [
    "%%R\n",
    "decks <- read.csv2(\"https://raw.githubusercontent.com/ArminRodriguez1/ig_Datos/main/data.csv\")\n",
    "head(decks)"
   ]
  },
  {
   "cell_type": "code",
   "execution_count": 9,
   "metadata": {
    "id": "fkX9GGGvlsMp"
   },
   "outputs": [],
   "source": [
    "decks = %R decks"
   ]
  },
  {
   "cell_type": "markdown",
   "metadata": {
    "id": "PDjwGN94WsBf"
   },
   "source": [
    "<a name=\"item3\"></a>\n",
    "##Limpieza de dataset\n",
    "\n",
    "Se realiza una limpieza de las variables no relevantes, con grandes cantidades de variables vacías, incorrectas o faltantes. Lo primero que se realizó fue evaluar las variables que no tenían relevancia en el contexto planteado, dejando solo las variables deseadas, posteriormente se limpiaron dichas variables dejando únicamente las que ofrecían información relevante para el contexto.\n",
    "\n",
    "Varaibles no relevantes : \n",
    "* craft_cost\n",
    "* deck_set\n",
    "* title\n",
    "* user\n",
    "* rating\n",
    "* deck_id\n",
    "\n",
    "Se tiene en la mira la variable con datos faltantes, erróneos o nulos\n",
    "\n",
    "* deck_archetype\n",
    "\n",
    "Tenemos que verificar si esta variable puede ser relevante para la propuesta experimental, en caso de ser afirmativo, entonces se tiene pensado limpiar los datos dejando solo los valores que son conocidos y eliminar los datos desconocidos de dicha variable.\n",
    "\n",
    "El dataset actualmente contiene datos desde el año 2013, esto no es algo favorable para lo que necesitamos, ya que en ese momento el juego estaba en fase \"beta\", por lo tanto las cartas y decks no son relevantes para el análisis final. Por lo que se eliminara los datos que sean anterior al 11 de marzo del 2014. Siendo esta la fecha de salida del juego para todo público. "
   ]
  },
  {
   "cell_type": "code",
   "execution_count": 10,
   "metadata": {
    "colab": {
     "base_uri": "https://localhost:8080/",
     "height": 0
    },
    "id": "L5YFfPX3uCqm",
    "outputId": "e9ceff11-2024-48ad-dabf-ad7dbf5588ca"
   },
   "outputs": [
    {
     "name": "stdout",
     "output_type": "stream",
     "text": [
      "Cantidad de filas presentes luego del filtrado: 346232\n",
      "Cantidad de columnas presentes luego del filtrado: 35\n"
     ]
    }
   ],
   "source": [
    "filter_deck = decks.copy()\n",
    "filter_deck.drop(['craft_cost','deck_set', 'title', 'user', 'rating', 'deck_id'], axis = 'columns', inplace=True)\n",
    "filter_deck.head()\n",
    "column_list = filter_deck.columns\n",
    "total_rows=len(filter_deck.axes[0])\n",
    "print(\"Cantidad de filas presentes luego del filtrado: \"+str(total_rows))\n",
    "print('Cantidad de columnas presentes luego del filtrado:', len(column_list))"
   ]
  },
  {
   "cell_type": "code",
   "execution_count": 11,
   "metadata": {
    "colab": {
     "base_uri": "https://localhost:8080/",
     "height": 0
    },
    "id": "au9o5NyYHs5p",
    "outputId": "d8341cf2-1e09-4f14-e60a-96875cb785bc"
   },
   "outputs": [
    {
     "name": "stdout",
     "output_type": "stream",
     "text": [
      "First deck : 2013-01-06 00:00:00\n",
      "Last deck : 2017-12-03 00:00:00\n"
     ]
    }
   ],
   "source": [
    "filter_deck['date'] = pd.to_datetime(decks['date'])\n",
    "print ('First deck :', min(filter_deck['date']))\n",
    "print ('Last deck :', max(filter_deck['date']))"
   ]
  },
  {
   "cell_type": "markdown",
   "metadata": {
    "id": "_ANBPg_NLN9-"
   },
   "source": [
    "Comprobamos que el primer mazos del dataset es del 23-05-2013, un año antes del lanzamiento oficial, por lo tanto, los mazos inferiores al año 2014 son mazos irrelevantes para nuestro análisis por lo que como se mencionó se eliminaran desde la fecha definida."
   ]
  },
  {
   "cell_type": "code",
   "execution_count": 12,
   "metadata": {
    "colab": {
     "base_uri": "https://localhost:8080/",
     "height": 0
    },
    "id": "pJjqYOaeL-Ry",
    "outputId": "1600f153-2c65-4df6-a47f-498fb6b1f34e"
   },
   "outputs": [
    {
     "name": "stdout",
     "output_type": "stream",
     "text": [
      "First deck : 2014-02-12 00:00:00\n",
      "Last deck : 2017-12-03 00:00:00\n"
     ]
    }
   ],
   "source": [
    "filter_deck = filter_deck[filter_deck['date'] > '2014-02-11']\n",
    "print ('First deck :', min(filter_deck['date']))\n",
    "print ('Last deck :', max(filter_deck['date']))"
   ]
  },
  {
   "cell_type": "code",
   "execution_count": 13,
   "metadata": {
    "colab": {
     "base_uri": "https://localhost:8080/",
     "height": 0
    },
    "id": "gejipDIHNRhj",
    "outputId": "1ed168ef-6782-4dd5-f915-1aa38096a58d"
   },
   "outputs": [
    {
     "name": "stdout",
     "output_type": "stream",
     "text": [
      "<class 'pandas.core.frame.DataFrame'>\n",
      "Index: 325525 entries, 1 to 346232\n",
      "Data columns (total 35 columns):\n",
      " #   Column          Non-Null Count   Dtype         \n",
      "---  ------          --------------   -----         \n",
      " 0   date            325525 non-null  datetime64[ns]\n",
      " 1   deck_archetype  325525 non-null  object        \n",
      " 2   deck_class      325525 non-null  object        \n",
      " 3   deck_format     325525 non-null  object        \n",
      " 4   deck_type       325525 non-null  object        \n",
      " 5   card_0          325525 non-null  int32         \n",
      " 6   card_1          325525 non-null  int32         \n",
      " 7   card_2          325525 non-null  int32         \n",
      " 8   card_3          325525 non-null  int32         \n",
      " 9   card_4          325525 non-null  int32         \n",
      " 10  card_5          325525 non-null  int32         \n",
      " 11  card_6          325525 non-null  int32         \n",
      " 12  card_7          325525 non-null  int32         \n",
      " 13  card_8          325525 non-null  int32         \n",
      " 14  card_9          325525 non-null  int32         \n",
      " 15  card_10         325525 non-null  int32         \n",
      " 16  card_11         325525 non-null  int32         \n",
      " 17  card_12         325525 non-null  int32         \n",
      " 18  card_13         325525 non-null  int32         \n",
      " 19  card_14         325525 non-null  int32         \n",
      " 20  card_15         325525 non-null  int32         \n",
      " 21  card_16         325525 non-null  int32         \n",
      " 22  card_17         325525 non-null  int32         \n",
      " 23  card_18         325525 non-null  int32         \n",
      " 24  card_19         325525 non-null  int32         \n",
      " 25  card_20         325525 non-null  int32         \n",
      " 26  card_21         325525 non-null  int32         \n",
      " 27  card_22         325525 non-null  int32         \n",
      " 28  card_23         325525 non-null  int32         \n",
      " 29  card_24         325525 non-null  int32         \n",
      " 30  card_25         325525 non-null  int32         \n",
      " 31  card_26         325525 non-null  int32         \n",
      " 32  card_27         325525 non-null  int32         \n",
      " 33  card_28         325525 non-null  int32         \n",
      " 34  card_29         325525 non-null  int32         \n",
      "dtypes: datetime64[ns](1), int32(30), object(4)\n",
      "memory usage: 52.2+ MB\n"
     ]
    }
   ],
   "source": [
    "filter_deck.info() #Se comprueba que no hayan valores nulos en el dataset"
   ]
  },
  {
   "cell_type": "markdown",
   "metadata": {
    "id": "Vh2VPy2wTyYk"
   },
   "source": [
    "Finalizando con el filtrado de datos, también se comprueba si es que existen nulos en las columnas y como se muestra en la información de cada columna no existen valores nulos por lo tanto no se tendrá que hacer filtración en esta ocasión."
   ]
  },
  {
   "cell_type": "markdown",
   "metadata": {
    "id": "iaJIn6BUkNz5"
   },
   "source": [
    "<a name=\"item4\"></a>\n",
    "## Exploración de Datos"
   ]
  },
  {
   "cell_type": "markdown",
   "metadata": {
    "id": "quCAMp6tD91i"
   },
   "source": [
    "Para comenzar el juego posee dos formatos de creación de mazos, cada uno de estos con distintos estilos estratégicos y que a su vez se componen de diferentes cartas, lo que hace interesante saber cómo se comporta el meta juego de los dos, entonces lo primero que se hará será filtrar los mazos por formatos."
   ]
  },
  {
   "cell_type": "code",
   "execution_count": 14,
   "metadata": {
    "colab": {
     "base_uri": "https://localhost:8080/",
     "height": 386
    },
    "id": "7qFObtCDEJRF",
    "outputId": "04bf85b0-497d-4953-e25c-6fe8d7f2976e"
   },
   "outputs": [
    {
     "data": {
      "text/html": [
       "\n",
       "  <div id=\"df-450c905f-9ccd-4cf8-8087-80c719d70a1f\">\n",
       "    <div class=\"colab-df-container\">\n",
       "      <div>\n",
       "<style scoped>\n",
       "    .dataframe tbody tr th:only-of-type {\n",
       "        vertical-align: middle;\n",
       "    }\n",
       "\n",
       "    .dataframe tbody tr th {\n",
       "        vertical-align: top;\n",
       "    }\n",
       "\n",
       "    .dataframe thead th {\n",
       "        text-align: right;\n",
       "    }\n",
       "</style>\n",
       "<table border=\"1\" class=\"dataframe\">\n",
       "  <thead>\n",
       "    <tr style=\"text-align: right;\">\n",
       "      <th></th>\n",
       "      <th>date</th>\n",
       "      <th>deck_archetype</th>\n",
       "      <th>deck_class</th>\n",
       "      <th>deck_format</th>\n",
       "      <th>deck_type</th>\n",
       "      <th>card_0</th>\n",
       "      <th>card_1</th>\n",
       "      <th>card_2</th>\n",
       "      <th>card_3</th>\n",
       "      <th>card_4</th>\n",
       "      <th>...</th>\n",
       "      <th>card_20</th>\n",
       "      <th>card_21</th>\n",
       "      <th>card_22</th>\n",
       "      <th>card_23</th>\n",
       "      <th>card_24</th>\n",
       "      <th>card_25</th>\n",
       "      <th>card_26</th>\n",
       "      <th>card_27</th>\n",
       "      <th>card_28</th>\n",
       "      <th>card_29</th>\n",
       "    </tr>\n",
       "  </thead>\n",
       "  <tbody>\n",
       "    <tr>\n",
       "      <th>1</th>\n",
       "      <td>2016-02-19</td>\n",
       "      <td>Unknown</td>\n",
       "      <td>Priest</td>\n",
       "      <td>W</td>\n",
       "      <td>Tavern Brawl</td>\n",
       "      <td>9</td>\n",
       "      <td>237</td>\n",
       "      <td>279</td>\n",
       "      <td>545</td>\n",
       "      <td>613</td>\n",
       "      <td>...</td>\n",
       "      <td>374</td>\n",
       "      <td>2280</td>\n",
       "      <td>2511</td>\n",
       "      <td>2555</td>\n",
       "      <td>2566</td>\n",
       "      <td>2582</td>\n",
       "      <td>2683</td>\n",
       "      <td>2736</td>\n",
       "      <td>2568</td>\n",
       "      <td>2883</td>\n",
       "    </tr>\n",
       "    <tr>\n",
       "      <th>2</th>\n",
       "      <td>2016-02-19</td>\n",
       "      <td>Unknown</td>\n",
       "      <td>Warrior</td>\n",
       "      <td>W</td>\n",
       "      <td>Ranked Deck</td>\n",
       "      <td>75</td>\n",
       "      <td>75</td>\n",
       "      <td>285</td>\n",
       "      <td>401</td>\n",
       "      <td>401</td>\n",
       "      <td>...</td>\n",
       "      <td>1781</td>\n",
       "      <td>1781</td>\n",
       "      <td>2021</td>\n",
       "      <td>2021</td>\n",
       "      <td>2064</td>\n",
       "      <td>2064</td>\n",
       "      <td>2078</td>\n",
       "      <td>2510</td>\n",
       "      <td>2729</td>\n",
       "      <td>2736</td>\n",
       "    </tr>\n",
       "    <tr>\n",
       "      <th>3</th>\n",
       "      <td>2016-02-19</td>\n",
       "      <td>Unknown</td>\n",
       "      <td>Mage</td>\n",
       "      <td>W</td>\n",
       "      <td>Theorycraft</td>\n",
       "      <td>195</td>\n",
       "      <td>195</td>\n",
       "      <td>315</td>\n",
       "      <td>315</td>\n",
       "      <td>531</td>\n",
       "      <td>...</td>\n",
       "      <td>1793</td>\n",
       "      <td>1801</td>\n",
       "      <td>1801</td>\n",
       "      <td>2037</td>\n",
       "      <td>2037</td>\n",
       "      <td>2064</td>\n",
       "      <td>2064</td>\n",
       "      <td>2078</td>\n",
       "      <td>38710</td>\n",
       "      <td>38710</td>\n",
       "    </tr>\n",
       "    <tr>\n",
       "      <th>4</th>\n",
       "      <td>2016-02-19</td>\n",
       "      <td>Unknown</td>\n",
       "      <td>Warrior</td>\n",
       "      <td>W</td>\n",
       "      <td>None</td>\n",
       "      <td>75</td>\n",
       "      <td>290</td>\n",
       "      <td>304</td>\n",
       "      <td>338</td>\n",
       "      <td>401</td>\n",
       "      <td>...</td>\n",
       "      <td>1657</td>\n",
       "      <td>1721</td>\n",
       "      <td>2018</td>\n",
       "      <td>2296</td>\n",
       "      <td>2262</td>\n",
       "      <td>336</td>\n",
       "      <td>2729</td>\n",
       "      <td>2729</td>\n",
       "      <td>2736</td>\n",
       "      <td>2760</td>\n",
       "    </tr>\n",
       "    <tr>\n",
       "      <th>5</th>\n",
       "      <td>2016-02-19</td>\n",
       "      <td>Unknown</td>\n",
       "      <td>Paladin</td>\n",
       "      <td>W</td>\n",
       "      <td>Ranked Deck</td>\n",
       "      <td>476</td>\n",
       "      <td>476</td>\n",
       "      <td>679</td>\n",
       "      <td>943</td>\n",
       "      <td>890</td>\n",
       "      <td>...</td>\n",
       "      <td>2027</td>\n",
       "      <td>2029</td>\n",
       "      <td>2029</td>\n",
       "      <td>2064</td>\n",
       "      <td>2078</td>\n",
       "      <td>374</td>\n",
       "      <td>2717</td>\n",
       "      <td>2717</td>\n",
       "      <td>2889</td>\n",
       "      <td>2889</td>\n",
       "    </tr>\n",
       "  </tbody>\n",
       "</table>\n",
       "<p>5 rows × 35 columns</p>\n",
       "</div>\n",
       "      <button class=\"colab-df-convert\" onclick=\"convertToInteractive('df-450c905f-9ccd-4cf8-8087-80c719d70a1f')\"\n",
       "              title=\"Convert this dataframe to an interactive table.\"\n",
       "              style=\"display:none;\">\n",
       "        \n",
       "  <svg xmlns=\"http://www.w3.org/2000/svg\" height=\"24px\"viewBox=\"0 0 24 24\"\n",
       "       width=\"24px\">\n",
       "    <path d=\"M0 0h24v24H0V0z\" fill=\"none\"/>\n",
       "    <path d=\"M18.56 5.44l.94 2.06.94-2.06 2.06-.94-2.06-.94-.94-2.06-.94 2.06-2.06.94zm-11 1L8.5 8.5l.94-2.06 2.06-.94-2.06-.94L8.5 2.5l-.94 2.06-2.06.94zm10 10l.94 2.06.94-2.06 2.06-.94-2.06-.94-.94-2.06-.94 2.06-2.06.94z\"/><path d=\"M17.41 7.96l-1.37-1.37c-.4-.4-.92-.59-1.43-.59-.52 0-1.04.2-1.43.59L10.3 9.45l-7.72 7.72c-.78.78-.78 2.05 0 2.83L4 21.41c.39.39.9.59 1.41.59.51 0 1.02-.2 1.41-.59l7.78-7.78 2.81-2.81c.8-.78.8-2.07 0-2.86zM5.41 20L4 18.59l7.72-7.72 1.47 1.35L5.41 20z\"/>\n",
       "  </svg>\n",
       "      </button>\n",
       "      \n",
       "  <style>\n",
       "    .colab-df-container {\n",
       "      display:flex;\n",
       "      flex-wrap:wrap;\n",
       "      gap: 12px;\n",
       "    }\n",
       "\n",
       "    .colab-df-convert {\n",
       "      background-color: #E8F0FE;\n",
       "      border: none;\n",
       "      border-radius: 50%;\n",
       "      cursor: pointer;\n",
       "      display: none;\n",
       "      fill: #1967D2;\n",
       "      height: 32px;\n",
       "      padding: 0 0 0 0;\n",
       "      width: 32px;\n",
       "    }\n",
       "\n",
       "    .colab-df-convert:hover {\n",
       "      background-color: #E2EBFA;\n",
       "      box-shadow: 0px 1px 2px rgba(60, 64, 67, 0.3), 0px 1px 3px 1px rgba(60, 64, 67, 0.15);\n",
       "      fill: #174EA6;\n",
       "    }\n",
       "\n",
       "    [theme=dark] .colab-df-convert {\n",
       "      background-color: #3B4455;\n",
       "      fill: #D2E3FC;\n",
       "    }\n",
       "\n",
       "    [theme=dark] .colab-df-convert:hover {\n",
       "      background-color: #434B5C;\n",
       "      box-shadow: 0px 1px 3px 1px rgba(0, 0, 0, 0.15);\n",
       "      filter: drop-shadow(0px 1px 2px rgba(0, 0, 0, 0.3));\n",
       "      fill: #FFFFFF;\n",
       "    }\n",
       "  </style>\n",
       "\n",
       "      <script>\n",
       "        const buttonEl =\n",
       "          document.querySelector('#df-450c905f-9ccd-4cf8-8087-80c719d70a1f button.colab-df-convert');\n",
       "        buttonEl.style.display =\n",
       "          google.colab.kernel.accessAllowed ? 'block' : 'none';\n",
       "\n",
       "        async function convertToInteractive(key) {\n",
       "          const element = document.querySelector('#df-450c905f-9ccd-4cf8-8087-80c719d70a1f');\n",
       "          const dataTable =\n",
       "            await google.colab.kernel.invokeFunction('convertToInteractive',\n",
       "                                                     [key], {});\n",
       "          if (!dataTable) return;\n",
       "\n",
       "          const docLinkHtml = 'Like what you see? Visit the ' +\n",
       "            '<a target=\"_blank\" href=https://colab.research.google.com/notebooks/data_table.ipynb>data table notebook</a>'\n",
       "            + ' to learn more about interactive tables.';\n",
       "          element.innerHTML = '';\n",
       "          dataTable['output_type'] = 'display_data';\n",
       "          await google.colab.output.renderOutput(dataTable, element);\n",
       "          const docLink = document.createElement('div');\n",
       "          docLink.innerHTML = docLinkHtml;\n",
       "          element.appendChild(docLink);\n",
       "        }\n",
       "      </script>\n",
       "    </div>\n",
       "  </div>\n",
       "  "
      ],
      "text/plain": [
       "        date deck_archetype deck_class deck_format     deck_type  card_0  \\\n",
       "1 2016-02-19        Unknown     Priest           W  Tavern Brawl       9   \n",
       "2 2016-02-19        Unknown    Warrior           W   Ranked Deck      75   \n",
       "3 2016-02-19        Unknown       Mage           W   Theorycraft     195   \n",
       "4 2016-02-19        Unknown    Warrior           W          None      75   \n",
       "5 2016-02-19        Unknown    Paladin           W   Ranked Deck     476   \n",
       "\n",
       "   card_1  card_2  card_3  card_4  ...  card_20  card_21  card_22  card_23  \\\n",
       "1     237     279     545     613  ...      374     2280     2511     2555   \n",
       "2      75     285     401     401  ...     1781     1781     2021     2021   \n",
       "3     195     315     315     531  ...     1793     1801     1801     2037   \n",
       "4     290     304     338     401  ...     1657     1721     2018     2296   \n",
       "5     476     679     943     890  ...     2027     2029     2029     2064   \n",
       "\n",
       "   card_24  card_25  card_26  card_27  card_28  card_29  \n",
       "1     2566     2582     2683     2736     2568     2883  \n",
       "2     2064     2064     2078     2510     2729     2736  \n",
       "3     2037     2064     2064     2078    38710    38710  \n",
       "4     2262      336     2729     2729     2736     2760  \n",
       "5     2078      374     2717     2717     2889     2889  \n",
       "\n",
       "[5 rows x 35 columns]"
      ]
     },
     "execution_count": 14,
     "metadata": {},
     "output_type": "execute_result"
    }
   ],
   "source": [
    "decks_w = filter_deck[filter_deck['deck_format'] == 'W'] #Se realiza un subconjunto de mazos que sean de formato Salvaje/Wild\n",
    "decks_w.head()"
   ]
  },
  {
   "cell_type": "code",
   "execution_count": 15,
   "metadata": {
    "colab": {
     "base_uri": "https://localhost:8080/",
     "height": 386
    },
    "id": "3wcd8caCD2Gq",
    "outputId": "4f1deb61-bdff-4946-fb0c-295dd5dce6c3"
   },
   "outputs": [
    {
     "data": {
      "text/html": [
       "\n",
       "  <div id=\"df-0c17116d-5d0c-4bd0-9121-45e43991ce9e\">\n",
       "    <div class=\"colab-df-container\">\n",
       "      <div>\n",
       "<style scoped>\n",
       "    .dataframe tbody tr th:only-of-type {\n",
       "        vertical-align: middle;\n",
       "    }\n",
       "\n",
       "    .dataframe tbody tr th {\n",
       "        vertical-align: top;\n",
       "    }\n",
       "\n",
       "    .dataframe thead th {\n",
       "        text-align: right;\n",
       "    }\n",
       "</style>\n",
       "<table border=\"1\" class=\"dataframe\">\n",
       "  <thead>\n",
       "    <tr style=\"text-align: right;\">\n",
       "      <th></th>\n",
       "      <th>date</th>\n",
       "      <th>deck_archetype</th>\n",
       "      <th>deck_class</th>\n",
       "      <th>deck_format</th>\n",
       "      <th>deck_type</th>\n",
       "      <th>card_0</th>\n",
       "      <th>card_1</th>\n",
       "      <th>card_2</th>\n",
       "      <th>card_3</th>\n",
       "      <th>card_4</th>\n",
       "      <th>...</th>\n",
       "      <th>card_20</th>\n",
       "      <th>card_21</th>\n",
       "      <th>card_22</th>\n",
       "      <th>card_23</th>\n",
       "      <th>card_24</th>\n",
       "      <th>card_25</th>\n",
       "      <th>card_26</th>\n",
       "      <th>card_27</th>\n",
       "      <th>card_28</th>\n",
       "      <th>card_29</th>\n",
       "    </tr>\n",
       "  </thead>\n",
       "  <tbody>\n",
       "    <tr>\n",
       "      <th>12</th>\n",
       "      <td>2016-02-19</td>\n",
       "      <td>Unknown</td>\n",
       "      <td>Mage</td>\n",
       "      <td>S</td>\n",
       "      <td>Ranked Deck</td>\n",
       "      <td>77</td>\n",
       "      <td>77</td>\n",
       "      <td>90</td>\n",
       "      <td>90</td>\n",
       "      <td>175</td>\n",
       "      <td>...</td>\n",
       "      <td>662</td>\n",
       "      <td>662</td>\n",
       "      <td>672</td>\n",
       "      <td>672</td>\n",
       "      <td>906</td>\n",
       "      <td>906</td>\n",
       "      <td>1004</td>\n",
       "      <td>1004</td>\n",
       "      <td>1084</td>\n",
       "      <td>1084</td>\n",
       "    </tr>\n",
       "    <tr>\n",
       "      <th>20</th>\n",
       "      <td>2016-02-19</td>\n",
       "      <td>Unknown</td>\n",
       "      <td>Rogue</td>\n",
       "      <td>S</td>\n",
       "      <td>Ranked Deck</td>\n",
       "      <td>180</td>\n",
       "      <td>180</td>\n",
       "      <td>365</td>\n",
       "      <td>365</td>\n",
       "      <td>459</td>\n",
       "      <td>...</td>\n",
       "      <td>1029</td>\n",
       "      <td>1064</td>\n",
       "      <td>1117</td>\n",
       "      <td>1117</td>\n",
       "      <td>1158</td>\n",
       "      <td>1158</td>\n",
       "      <td>268</td>\n",
       "      <td>556</td>\n",
       "      <td>2884</td>\n",
       "      <td>2884</td>\n",
       "    </tr>\n",
       "    <tr>\n",
       "      <th>24</th>\n",
       "      <td>2016-02-19</td>\n",
       "      <td>Unknown</td>\n",
       "      <td>Warlock</td>\n",
       "      <td>S</td>\n",
       "      <td>Theorycraft</td>\n",
       "      <td>23</td>\n",
       "      <td>48</td>\n",
       "      <td>138</td>\n",
       "      <td>147</td>\n",
       "      <td>290</td>\n",
       "      <td>...</td>\n",
       "      <td>2288</td>\n",
       "      <td>2301</td>\n",
       "      <td>2262</td>\n",
       "      <td>2280</td>\n",
       "      <td>2518</td>\n",
       "      <td>2704</td>\n",
       "      <td>2883</td>\n",
       "      <td>2895</td>\n",
       "      <td>2919</td>\n",
       "      <td>2949</td>\n",
       "    </tr>\n",
       "    <tr>\n",
       "      <th>32</th>\n",
       "      <td>2016-02-19</td>\n",
       "      <td>Unknown</td>\n",
       "      <td>Druid</td>\n",
       "      <td>S</td>\n",
       "      <td>Ranked Deck</td>\n",
       "      <td>64</td>\n",
       "      <td>64</td>\n",
       "      <td>95</td>\n",
       "      <td>137</td>\n",
       "      <td>137</td>\n",
       "      <td>...</td>\n",
       "      <td>2598</td>\n",
       "      <td>2598</td>\n",
       "      <td>2736</td>\n",
       "      <td>2782</td>\n",
       "      <td>2782</td>\n",
       "      <td>2919</td>\n",
       "      <td>38113</td>\n",
       "      <td>38113</td>\n",
       "      <td>38319</td>\n",
       "      <td>38319</td>\n",
       "    </tr>\n",
       "    <tr>\n",
       "      <th>52</th>\n",
       "      <td>2016-02-19</td>\n",
       "      <td>Unknown</td>\n",
       "      <td>Mage</td>\n",
       "      <td>S</td>\n",
       "      <td>Theorycraft</td>\n",
       "      <td>77</td>\n",
       "      <td>172</td>\n",
       "      <td>172</td>\n",
       "      <td>286</td>\n",
       "      <td>315</td>\n",
       "      <td>...</td>\n",
       "      <td>1087</td>\n",
       "      <td>2275</td>\n",
       "      <td>2275</td>\n",
       "      <td>41609</td>\n",
       "      <td>2874</td>\n",
       "      <td>2874</td>\n",
       "      <td>2875</td>\n",
       "      <td>2875</td>\n",
       "      <td>2958</td>\n",
       "      <td>2958</td>\n",
       "    </tr>\n",
       "  </tbody>\n",
       "</table>\n",
       "<p>5 rows × 35 columns</p>\n",
       "</div>\n",
       "      <button class=\"colab-df-convert\" onclick=\"convertToInteractive('df-0c17116d-5d0c-4bd0-9121-45e43991ce9e')\"\n",
       "              title=\"Convert this dataframe to an interactive table.\"\n",
       "              style=\"display:none;\">\n",
       "        \n",
       "  <svg xmlns=\"http://www.w3.org/2000/svg\" height=\"24px\"viewBox=\"0 0 24 24\"\n",
       "       width=\"24px\">\n",
       "    <path d=\"M0 0h24v24H0V0z\" fill=\"none\"/>\n",
       "    <path d=\"M18.56 5.44l.94 2.06.94-2.06 2.06-.94-2.06-.94-.94-2.06-.94 2.06-2.06.94zm-11 1L8.5 8.5l.94-2.06 2.06-.94-2.06-.94L8.5 2.5l-.94 2.06-2.06.94zm10 10l.94 2.06.94-2.06 2.06-.94-2.06-.94-.94-2.06-.94 2.06-2.06.94z\"/><path d=\"M17.41 7.96l-1.37-1.37c-.4-.4-.92-.59-1.43-.59-.52 0-1.04.2-1.43.59L10.3 9.45l-7.72 7.72c-.78.78-.78 2.05 0 2.83L4 21.41c.39.39.9.59 1.41.59.51 0 1.02-.2 1.41-.59l7.78-7.78 2.81-2.81c.8-.78.8-2.07 0-2.86zM5.41 20L4 18.59l7.72-7.72 1.47 1.35L5.41 20z\"/>\n",
       "  </svg>\n",
       "      </button>\n",
       "      \n",
       "  <style>\n",
       "    .colab-df-container {\n",
       "      display:flex;\n",
       "      flex-wrap:wrap;\n",
       "      gap: 12px;\n",
       "    }\n",
       "\n",
       "    .colab-df-convert {\n",
       "      background-color: #E8F0FE;\n",
       "      border: none;\n",
       "      border-radius: 50%;\n",
       "      cursor: pointer;\n",
       "      display: none;\n",
       "      fill: #1967D2;\n",
       "      height: 32px;\n",
       "      padding: 0 0 0 0;\n",
       "      width: 32px;\n",
       "    }\n",
       "\n",
       "    .colab-df-convert:hover {\n",
       "      background-color: #E2EBFA;\n",
       "      box-shadow: 0px 1px 2px rgba(60, 64, 67, 0.3), 0px 1px 3px 1px rgba(60, 64, 67, 0.15);\n",
       "      fill: #174EA6;\n",
       "    }\n",
       "\n",
       "    [theme=dark] .colab-df-convert {\n",
       "      background-color: #3B4455;\n",
       "      fill: #D2E3FC;\n",
       "    }\n",
       "\n",
       "    [theme=dark] .colab-df-convert:hover {\n",
       "      background-color: #434B5C;\n",
       "      box-shadow: 0px 1px 3px 1px rgba(0, 0, 0, 0.15);\n",
       "      filter: drop-shadow(0px 1px 2px rgba(0, 0, 0, 0.3));\n",
       "      fill: #FFFFFF;\n",
       "    }\n",
       "  </style>\n",
       "\n",
       "      <script>\n",
       "        const buttonEl =\n",
       "          document.querySelector('#df-0c17116d-5d0c-4bd0-9121-45e43991ce9e button.colab-df-convert');\n",
       "        buttonEl.style.display =\n",
       "          google.colab.kernel.accessAllowed ? 'block' : 'none';\n",
       "\n",
       "        async function convertToInteractive(key) {\n",
       "          const element = document.querySelector('#df-0c17116d-5d0c-4bd0-9121-45e43991ce9e');\n",
       "          const dataTable =\n",
       "            await google.colab.kernel.invokeFunction('convertToInteractive',\n",
       "                                                     [key], {});\n",
       "          if (!dataTable) return;\n",
       "\n",
       "          const docLinkHtml = 'Like what you see? Visit the ' +\n",
       "            '<a target=\"_blank\" href=https://colab.research.google.com/notebooks/data_table.ipynb>data table notebook</a>'\n",
       "            + ' to learn more about interactive tables.';\n",
       "          element.innerHTML = '';\n",
       "          dataTable['output_type'] = 'display_data';\n",
       "          await google.colab.output.renderOutput(dataTable, element);\n",
       "          const docLink = document.createElement('div');\n",
       "          docLink.innerHTML = docLinkHtml;\n",
       "          element.appendChild(docLink);\n",
       "        }\n",
       "      </script>\n",
       "    </div>\n",
       "  </div>\n",
       "  "
      ],
      "text/plain": [
       "         date deck_archetype deck_class deck_format    deck_type  card_0  \\\n",
       "12 2016-02-19        Unknown       Mage           S  Ranked Deck      77   \n",
       "20 2016-02-19        Unknown      Rogue           S  Ranked Deck     180   \n",
       "24 2016-02-19        Unknown    Warlock           S  Theorycraft      23   \n",
       "32 2016-02-19        Unknown      Druid           S  Ranked Deck      64   \n",
       "52 2016-02-19        Unknown       Mage           S  Theorycraft      77   \n",
       "\n",
       "    card_1  card_2  card_3  card_4  ...  card_20  card_21  card_22  card_23  \\\n",
       "12      77      90      90     175  ...      662      662      672      672   \n",
       "20     180     365     365     459  ...     1029     1064     1117     1117   \n",
       "24      48     138     147     290  ...     2288     2301     2262     2280   \n",
       "32      64      95     137     137  ...     2598     2598     2736     2782   \n",
       "52     172     172     286     315  ...     1087     2275     2275    41609   \n",
       "\n",
       "    card_24  card_25  card_26  card_27  card_28  card_29  \n",
       "12      906      906     1004     1004     1084     1084  \n",
       "20     1158     1158      268      556     2884     2884  \n",
       "24     2518     2704     2883     2895     2919     2949  \n",
       "32     2782     2919    38113    38113    38319    38319  \n",
       "52     2874     2874     2875     2875     2958     2958  \n",
       "\n",
       "[5 rows x 35 columns]"
      ]
     },
     "execution_count": 15,
     "metadata": {},
     "output_type": "execute_result"
    }
   ],
   "source": [
    "decks_s = filter_deck[filter_deck['deck_format'] == 'S'] #Se realiza un subconjunto de mazos que sean de formato Estandar/Standar\n",
    "decks_s.head()"
   ]
  },
  {
   "cell_type": "markdown",
   "metadata": {
    "id": "1i8W3NJ7MDk-"
   },
   "source": [
    "Ya tenemos los subconjuntos con cada formato, la razón de hacer esto es que al tener diferenciados por formatos podemos analizar de mejor manera los comportamientos asociados al juego en cada formato y también saber si existen diferencias entre los dos.\n",
    "\n",
    "Como se había mencionado anteriormente, dentro del juego existen clases los cuales definen a cada mazo que cartas puede ocupar respecto a su clase, y esto permite tener diferentes estrategias que se juegan en distintas clases, por lo tanto vamos a analizar cuáles son las razas más utilizadas en cada formato."
   ]
  },
  {
   "cell_type": "code",
   "execution_count": 16,
   "metadata": {
    "colab": {
     "base_uri": "https://localhost:8080/",
     "height": 592
    },
    "id": "amH4c04rQHx7",
    "outputId": "f6be1a2d-a583-427a-bf7c-a86db7b941c7"
   },
   "outputs": [
    {
     "data": {
      "text/plain": [
       "<matplotlib.axes._subplots.AxesSubplot at 0x7f23d433b950>"
      ]
     },
     "execution_count": 16,
     "metadata": {},
     "output_type": "execute_result"
    },
    {
     "data": {
      "image/png": "[encoded data removed]",
      "text/plain": [
       "<Figure size 720x720 with 1 Axes>"
      ]
     },
     "metadata": {},
     "output_type": "display_data"
    }
   ],
   "source": [
    "deck_class_w = decks_w['deck_class'].value_counts()\n",
    "deck_class_graphic = deck_class_w.to_frame().reset_index()\n",
    "colors = {\n",
    "    'Druid' : '#fdb365',\n",
    "    'Hunter' : '#fffebe',\n",
    "    'Mage' : '#be254a',\n",
    "    'Paladin' : '#dc484c',\n",
    "    'Priest' : '#ef6645',\n",
    "    'Rogue' : '#f0f9a7',\n",
    "    'Shaman' : '#feeb9d',\n",
    "    'Warlock' : '#f88c51',\n",
    "    'Warrior' : '#fed27f',\n",
    "}\n",
    "\n",
    "colors = collections.OrderedDict(sorted(colors.items()))\n",
    "\n",
    "deck_class_graphic['color'] = deck_class_graphic['index'].replace(colors)\n",
    "deck_class_w.plot.pie(\n",
    "    y='deck_class', \n",
    "    labels=deck_class_graphic['index'], \n",
    "    colors=deck_class_graphic['color'],\n",
    "    autopct='%.2f', \n",
    "    fontsize=15,\n",
    "    figsize=(10, 10),\n",
    "    legend=False,\n",
    ")\n",
    "#Para Wild"
   ]
  },
  {
   "cell_type": "markdown",
   "metadata": {
    "id": "bAvAQ8lwPsfv"
   },
   "source": [
    "Este gráfico corresponde al formato de salvaje el cual nos indica que la clase Mago es la más utilizada."
   ]
  },
  {
   "cell_type": "code",
   "execution_count": 17,
   "metadata": {
    "colab": {
     "base_uri": "https://localhost:8080/",
     "height": 592
    },
    "id": "c6iLDUsYQTJS",
    "outputId": "853214d2-484b-43ec-82dc-b47789fb51b1"
   },
   "outputs": [
    {
     "data": {
      "text/plain": [
       "<matplotlib.axes._subplots.AxesSubplot at 0x7f23d426d510>"
      ]
     },
     "execution_count": 17,
     "metadata": {},
     "output_type": "execute_result"
    },
    {
     "data": {
      "image/png": "[encoded data removed]",
      "text/plain": [
       "<Figure size 720x720 with 1 Axes>"
      ]
     },
     "metadata": {},
     "output_type": "display_data"
    }
   ],
   "source": [
    "deck_class_s = decks_s['deck_class'].value_counts()\n",
    "deck_class_graphic = deck_class_s.to_frame().reset_index()\n",
    "colors = {\n",
    "    'Druid' : '#dc484c',\n",
    "    'Hunter' : '#f0f9a7',\n",
    "    'Mage' : '#fdb365',\n",
    "    'Paladin' : '#feeb9d',\n",
    "    'Priest' : '#be254a',\n",
    "    'Rogue' : '#f88c51',\n",
    "    'Shaman' : '#ef6645',\n",
    "    'Warlock' : '#fffebe',\n",
    "    'Warrior' : '#fed27f',\n",
    "}\n",
    "colors = collections.OrderedDict(sorted(colors.items()))\n",
    "\n",
    "deck_class_graphic['color'] = deck_class_graphic['index'].replace(colors)\n",
    "deck_class_s.plot.pie(\n",
    "    y='deck_class', \n",
    "    labels=deck_class_graphic['index'], \n",
    "    colors=deck_class_graphic['color'],\n",
    "    autopct='%.2f', \n",
    "    fontsize=15,\n",
    "    figsize=(10, 10),\n",
    "    legend=False,\n",
    ")\n",
    "#Para estandar"
   ]
  },
  {
   "cell_type": "markdown",
   "metadata": {
    "id": "jirah6wKYBMI"
   },
   "source": [
    "Este gráfico corresponde al formato de estándar el cual nos indica que la clase Sacerdote es la más utilizada. Y como podemos ver lo que más se juega en un formato es diferente al otro y esto nos puede indicar que la forma de jugar en cada formato es diferente y se puede evidenciar por las clases que utilizan los jugadores en cada formato la que cambia considerablemente."
   ]
  },
  {
   "cell_type": "markdown",
   "metadata": {
    "id": "CJ9Bmw7m3IPS"
   },
   "source": [
    "Siguiendo con el análisis por formato, ya que sabemos cuáles son las clases más utilizadas vamos a ver los arquetipos de mazos que hacen referencia a las cartas que utilizan para llevar a cabo una estrategia de juego. Antes de empezar se ha verificado que existen muchos mazos sin un arquetipo definido. Estos por lo que se pudo observar eran arquetipos Unknown y Edit los cuales no indican ninguna información, entonces se procede a filtrar los mazos que contengan estos datos."
   ]
  },
  {
   "cell_type": "code",
   "execution_count": 18,
   "metadata": {
    "colab": {
     "base_uri": "https://localhost:8080/",
     "height": 0
    },
    "id": "jiekqNon3J52",
    "outputId": "e7cb0c50-77b9-4e33-ab5a-1dba1f21d725"
   },
   "outputs": [
    {
     "name": "stdout",
     "output_type": "stream",
     "text": [
      "Cantidad de decks presentes luego del filtrado: 92192\n"
     ]
    }
   ],
   "source": [
    "decks_conocidos_s = decks_s[decks_s['deck_archetype'] != 'Unknown'] #Se filtra y se crea un subconjunto donde no hayan decks con el valor \"Unknown\"\n",
    "decks_conocidos_s = decks_conocidos_s[decks_conocidos_s['deck_archetype'] != 'Edit'] #Y luego se filtra nuevamente sacando los arqueotipos de decks que son \"Edit\"\n",
    "print('Cantidad de decks presentes luego del filtrado:', len(decks_conocidos_s))"
   ]
  },
  {
   "cell_type": "code",
   "execution_count": 19,
   "metadata": {
    "colab": {
     "base_uri": "https://localhost:8080/",
     "height": 0
    },
    "id": "WHdSPSMtSUgW",
    "outputId": "9c1fb947-b414-476c-d7ab-ce94c3a9cc73"
   },
   "outputs": [
    {
     "name": "stdout",
     "output_type": "stream",
     "text": [
      "Cantidad de decks presentes luego del filtrado: 11361\n"
     ]
    }
   ],
   "source": [
    "decks_conocidos_w = decks_w[decks_w['deck_archetype'] != 'Unknown'] #Se filtra y se crea un subconjunto donde no hayan decks con el valor \"Unknown\"\n",
    "decks_conocidos_w = decks_conocidos_w[decks_conocidos_w['deck_archetype'] != 'Edit'] #Y luego se filtra nuevamente sacando los arqueotipos de decks que son \"Edit\"\n",
    "print('Cantidad de decks presentes luego del filtrado:', len(decks_conocidos_w))"
   ]
  },
  {
   "cell_type": "markdown",
   "metadata": {
    "id": "PofMBTpCb0gF"
   },
   "source": [
    "Luego del filtrado se procede a comprobar los arquetipos más jugados de las clases Mago y Sacerdote, ya que estas fueron las que lideraban en los gráficos anteriores. La razón de hacer este análisis es para ver el porqué cambió de clase más utilizada en un formato en comparación a su contraparte, para aquello vamos a comparar cada clase entre los formatos Salvaje y Estándar para ver qué arquetipo se está jugando en cada uno, ya que el arquetipo de juego indica una estrategia con el uso de las cartas."
   ]
  },
  {
   "cell_type": "code",
   "execution_count": 20,
   "metadata": {
    "colab": {
     "base_uri": "https://localhost:8080/",
     "height": 531
    },
    "id": "e6x0XOB_7Sz9",
    "outputId": "1e291bf0-44ed-4a01-f3e1-3055c81b8c54"
   },
   "outputs": [
    {
     "data": {
      "text/plain": [
       "<Figure size 432x288 with 0 Axes>"
      ]
     },
     "metadata": {},
     "output_type": "display_data"
    },
    {
     "data": {
      "image/png": "[encoded data removed]",
      "text/plain": [
       "<Figure size 1080x432 with 1 Axes>"
      ]
     },
     "metadata": {
      "needs_background": "light"
     },
     "output_type": "display_data"
    }
   ],
   "source": [
    "decks_priest_s = decks_conocidos_s[decks_conocidos_s['deck_class'] == 'Priest']\n",
    "contador = decks_priest_s.groupby(['deck_class', 'deck_archetype']).size().reset_index()\n",
    "for i, group in contador.groupby('deck_class'):\n",
    "    fig = plt.figure()\n",
    "    group.sort_values(0, ascending=False).plot(\n",
    "        kind='bar', \n",
    "        x='deck_archetype', \n",
    "        title='Priest Standard',\n",
    "        legend=False,\n",
    "        figsize=(15, 6),\n",
    "        fontsize=15,\n",
    "    )"
   ]
  },
  {
   "cell_type": "code",
   "execution_count": 21,
   "metadata": {
    "colab": {
     "base_uri": "https://localhost:8080/",
     "height": 531
    },
    "id": "IdWfI_CaS2yL",
    "outputId": "af8ed0c2-9cf4-4ec9-8e03-b9b2f83a9027"
   },
   "outputs": [
    {
     "data": {
      "text/plain": [
       "<Figure size 432x288 with 0 Axes>"
      ]
     },
     "metadata": {},
     "output_type": "display_data"
    },
    {
     "data": {
      "image/png": "[encoded data removed]",
      "text/plain": [
       "<Figure size 1080x432 with 1 Axes>"
      ]
     },
     "metadata": {
      "needs_background": "light"
     },
     "output_type": "display_data"
    }
   ],
   "source": [
    "decks_priest_w = decks_conocidos_w[decks_conocidos_w['deck_class'] == 'Priest']\n",
    "contador = decks_priest_w.groupby(['deck_class', 'deck_archetype']).size().reset_index()\n",
    "for i, group in contador.groupby('deck_class'):\n",
    "    fig = plt.figure()\n",
    "    group.sort_values(0, ascending=False).plot(\n",
    "        kind='bar', \n",
    "        x='deck_archetype', \n",
    "        title='Priest Wild',\n",
    "        legend=False,\n",
    "        figsize=(15, 6),\n",
    "        fontsize=15,\n",
    "    )"
   ]
  },
  {
   "cell_type": "code",
   "execution_count": 22,
   "metadata": {
    "colab": {
     "base_uri": "https://localhost:8080/",
     "height": 513
    },
    "id": "i2v4k-g5SbG4",
    "outputId": "903f1b0d-7a00-4fe2-dbe2-5d0967937173"
   },
   "outputs": [
    {
     "data": {
      "text/plain": [
       "<Figure size 432x288 with 0 Axes>"
      ]
     },
     "metadata": {},
     "output_type": "display_data"
    },
    {
     "data": {
      "image/png": "[encoded data removed]",
      "text/plain": [
       "<Figure size 1080x432 with 1 Axes>"
      ]
     },
     "metadata": {
      "needs_background": "light"
     },
     "output_type": "display_data"
    }
   ],
   "source": [
    "decks_mage = decks_conocidos_s[decks_conocidos_s['deck_class'] == 'Mage']\n",
    "contador = decks_mage.groupby(['deck_class', 'deck_archetype']).size().reset_index()\n",
    "for i, group in contador.groupby('deck_class'):\n",
    "    fig = plt.figure()\n",
    "    group.sort_values(0, ascending=False).plot(\n",
    "        kind='bar', \n",
    "        x='deck_archetype', \n",
    "        title='Mage Standard',\n",
    "        legend=False,\n",
    "        figsize=(15, 6),\n",
    "        fontsize=15,\n",
    "    )"
   ]
  },
  {
   "cell_type": "code",
   "execution_count": 23,
   "metadata": {
    "colab": {
     "base_uri": "https://localhost:8080/",
     "height": 513
    },
    "id": "jG0eeYjuTZiM",
    "outputId": "97de1b9e-e849-4906-91a9-0bb71243773d"
   },
   "outputs": [
    {
     "data": {
      "text/plain": [
       "<Figure size 432x288 with 0 Axes>"
      ]
     },
     "metadata": {},
     "output_type": "display_data"
    },
    {
     "data": {
      "image/png": "[encoded data removed]",
      "text/plain": [
       "<Figure size 1080x432 with 1 Axes>"
      ]
     },
     "metadata": {
      "needs_background": "light"
     },
     "output_type": "display_data"
    }
   ],
   "source": [
    "decks_mage = decks_conocidos_w[decks_conocidos_w['deck_class'] == 'Mage']\n",
    "contador = decks_mage.groupby(['deck_class', 'deck_archetype']).size().reset_index()\n",
    "for i, group in contador.groupby('deck_class'):\n",
    "    fig = plt.figure()\n",
    "    group.sort_values(0, ascending=False).plot(\n",
    "        kind='bar', \n",
    "        x='deck_archetype', \n",
    "        title='Mage Wild',\n",
    "        legend=False,\n",
    "        figsize=(15, 6),\n",
    "        fontsize=15,\n",
    "    )"
   ]
  },
  {
   "cell_type": "markdown",
   "metadata": {
    "id": "6UcdyNbd7SYX"
   },
   "source": [
    "Como se puede observar en los gráficos anteriores, para el caso de la clase Sacerdote no hubo mucho cambio en los arquetipos jugados entre los formatos. Al igual que en la clase Mago. Por lo tanto se puede concluir que el cambio de la clase que lideraba en los formatos Estándar y Salvaje se debe a que dentro del juego existe la rotación de cartas que significa que las cartas de estándar de la temporada pasan al formato de salvaje y aparecen nuevas cartas para el formato estándar para reemplazar a las que se habían ido a salvaje, por lo tanto se potenciaba a ciertos mazos y ocurre que en el caso de mago que era más utilizado en estándar se fue debilitando en el formato salvaje por la potencia de otras clases. En este caso el análisis no arroja información relevante que se pueda inferir respecto a nuestra propuesta principal, ya que no existen cambios significativos en cada formato."
   ]
  },
  {
   "cell_type": "markdown",
   "metadata": {
    "id": "Sjh2RpXc0y6E"
   },
   "source": [
    "<a name=\"item5\"></a>\n",
    "## Preguntas y Problemas"
   ]
  },
  {
   "cell_type": "markdown",
   "metadata": {
    "id": "LabQsN9R04zG"
   },
   "source": [
    "\n",
    "1. Problema de clasificación binaria basado en la variable \"deck_format\".\n",
    "\n",
    "2. Encontrar una característica o atributos de un mazo que puedan realizar una mejor clasificación de un formato.\n",
    "\n",
    "3. ¿Cuáles serían los atributos que puedan permitir hacer una mejor predicción del formato de un mazo?"
   ]
  },
  {
   "cell_type": "markdown",
   "metadata": {
    "id": "H7YGtEpX7vHi"
   },
   "source": [
    "<a name=\"item6\"></a>\n",
    "## Propuesta Experimental "
   ]
  },
  {
   "cell_type": "markdown",
   "metadata": {
    "id": "e5LypzPV0f0p"
   },
   "source": [
    "\n",
    "\n",
    "* Como sabemos que un mazo se compone de atributos que hacen referencia a cartas del mazo, vamos a agrupar cartas que se juegan en un formato y en el otro para así lograr hacer una clasificación de un mazo respecto a las cartas que utiliza, para aquello utilizaremos una técnica de clustering.\n",
    "\n",
    "* Vamos a clasificar con 3 modelos árbol de decisión, regresión logística y naive bayes para identificar y comparar modelos sirve para clasificar el formato de un mazo.\n",
    "\n",
    "* Analizaremos la correlación de los atributos no relacionados a las cartas de un mazo con el formato de este para así detectar cuáles son los atributos nos permiten hacer una mejor clasificación.\n"
   ]
  },
  {
   "cell_type": "markdown",
   "metadata": {
    "id": "GLEJIWry1Erw"
   },
   "source": [
    "<a name=\"item7\"></a>\n",
    "## Experimento preliminar"
   ]
  },
  {
   "cell_type": "markdown",
   "metadata": {
    "id": "jmIYyZNmL-C2"
   },
   "source": [
    "Para realizar el experimento utilizaremos el subconjunto \"filter_deck\", ya que contiene todos los datos necesarios para trabajar los modelos."
   ]
  },
  {
   "cell_type": "code",
   "execution_count": 24,
   "metadata": {
    "id": "38U8NDsVMmnk"
   },
   "outputs": [],
   "source": [
    "card_columnas = ['card_{}'.format(str(i)) for i in range(30)]"
   ]
  },
  {
   "cell_type": "code",
   "execution_count": 25,
   "metadata": {
    "id": "BmBoLm5zPwPF"
   },
   "outputs": [],
   "source": [
    "def predecir_formato_arbol(decks_df, card_columnas):\n",
    "\n",
    "    X = decks_df[card_columnas]\n",
    "    y = decks_df['deck_format']\n",
    "\n",
    "    X_train, X_test, y_train, y_test = train_test_split(X, y)\n",
    "    \n",
    "    # Arbol de decision\n",
    "    clf = tree.DecisionTreeClassifier()\n",
    "    clf.fit(X_train, y_train)\n",
    "    pred = clf.predict(X_test)\n",
    "    \n",
    "    print(classification_report(y_test, pred))\n",
    "    print('Matriz de confusión: \\n', metrics.confusion_matrix(y_test, pred))\n",
    "    \n",
    "    return clf"
   ]
  },
  {
   "cell_type": "code",
   "execution_count": 26,
   "metadata": {
    "colab": {
     "base_uri": "https://localhost:8080/",
     "height": 0
    },
    "id": "OqBLJ2iyvDNP",
    "outputId": "a66ce522-7c79-451b-99fe-e1441ce4029d"
   },
   "outputs": [
    {
     "name": "stdout",
     "output_type": "stream",
     "text": [
      "              precision    recall  f1-score   support\n",
      "\n",
      "           S       0.99      0.99      0.99     37802\n",
      "           W       0.99      1.00      1.00     43580\n",
      "\n",
      "    accuracy                           0.99     81382\n",
      "   macro avg       0.99      0.99      0.99     81382\n",
      "weighted avg       0.99      0.99      0.99     81382\n",
      "\n",
      "Matriz de confusión: \n",
      " [[37572   230]\n",
      " [  202 43378]]\n"
     ]
    }
   ],
   "source": [
    "prediccion_arbol = predecir_formato_arbol(filter_deck, card_columnas)"
   ]
  },
  {
   "cell_type": "markdown",
   "metadata": {
    "id": "8osFj57xvxyP"
   },
   "source": [
    "El modelo muestra un rendimiento anormalmente alto en todas sus métricas, lo cual puede significar Overfitting, pero la matriz de confusión muestra que la distribución de TP y TN refleja propiamente el comportamiento del modelo."
   ]
  },
  {
   "cell_type": "code",
   "execution_count": 27,
   "metadata": {
    "id": "BUpGlFysQYSM"
   },
   "outputs": [],
   "source": [
    "def predecir_formato_bayes(decks_df, card_columnas):\n",
    "\n",
    "    X = decks_df[card_columnas]\n",
    "    y = decks_df['deck_format']\n",
    "\n",
    "    X_train, X_test, y_train, y_test = train_test_split(X, y, test_size=0.5, random_state=0)\n",
    "    \n",
    "    # Naive Bayes\n",
    "    clf = GaussianNB()\n",
    "    clf.fit(X_train, y_train)\n",
    "    pred = clf.predict(X_test)\n",
    "    \n",
    "    print(classification_report(y_test, pred))\n",
    "    print('Matriz de confusión: \\n', metrics.confusion_matrix(y_test, pred))\n",
    "    return clf"
   ]
  },
  {
   "cell_type": "code",
   "execution_count": 28,
   "metadata": {
    "colab": {
     "base_uri": "https://localhost:8080/",
     "height": 0
    },
    "id": "bfaDm0EYP22s",
    "outputId": "b913f725-adf4-4805-a0a1-90908b2435aa"
   },
   "outputs": [
    {
     "name": "stdout",
     "output_type": "stream",
     "text": [
      "              precision    recall  f1-score   support\n",
      "\n",
      "           S       0.47      1.00      0.64     75829\n",
      "           W       0.65      0.00      0.00     86934\n",
      "\n",
      "    accuracy                           0.47    162763\n",
      "   macro avg       0.56      0.50      0.32    162763\n",
      "weighted avg       0.56      0.47      0.30    162763\n",
      "\n",
      "Matriz de confusión: \n",
      " [[75804    25]\n",
      " [86888    46]]\n"
     ]
    }
   ],
   "source": [
    "prediccion_bayes = predecir_formato_bayes(filter_deck, card_columnas)"
   ]
  },
  {
   "cell_type": "markdown",
   "metadata": {
    "id": "iUHgf2PAGbMT"
   },
   "source": [
    "El rendimiento de este modelo fue mucho más bajo que lo observado en el árbol de decisión, en especial en el formato Salvaje."
   ]
  },
  {
   "cell_type": "code",
   "execution_count": 29,
   "metadata": {
    "id": "lnXguTBW83k7"
   },
   "outputs": [],
   "source": [
    "from sklearn import metrics\n",
    "def predecir_formato_reg_logistica(decks_df, card_columnas):\n",
    "\n",
    "    X = decks_df[card_columnas].values\n",
    "    y = decks_df['deck_format'].values\n",
    "\n",
    "    X_train, X_test, y_train, y_test = train_test_split(X, y, train_size=0.5)\n",
    "    \n",
    "    # Regresion logistica\n",
    "    clf = linear_model.LogisticRegression()\n",
    "    clf.fit(X_train, y_train)\n",
    "    \n",
    "    pred = clf.predict(X_test)\n",
    "    \n",
    "    print (classification_report(y_test, pred))\n",
    "    print('Matriz de confusión: \\n', metrics.confusion_matrix(y_test, pred))\n",
    "    \n",
    "    return clf"
   ]
  },
  {
   "cell_type": "code",
   "execution_count": 30,
   "metadata": {
    "colab": {
     "base_uri": "https://localhost:8080/",
     "height": 0
    },
    "id": "pVveNSZbP8VD",
    "outputId": "e61943b5-03c4-4d9c-c134-cdc3a279beda"
   },
   "outputs": [
    {
     "name": "stdout",
     "output_type": "stream",
     "text": [
      "              precision    recall  f1-score   support\n",
      "\n",
      "           S       0.50      0.90      0.64     75640\n",
      "           W       0.71      0.20      0.32     87123\n",
      "\n",
      "    accuracy                           0.53    162763\n",
      "   macro avg       0.60      0.55      0.48    162763\n",
      "weighted avg       0.61      0.53      0.47    162763\n",
      "\n",
      "Matriz de confusión: \n",
      " [[68241  7399]\n",
      " [69324 17799]]\n"
     ]
    }
   ],
   "source": [
    "prediccion_reg_logistica = predecir_formato_reg_logistica(filter_deck, card_columnas)"
   ]
  },
  {
   "cell_type": "markdown",
   "metadata": {
    "id": "Yrew6BFLvkYX"
   },
   "source": [
    "En comparación al árbol de decisión el rendimiento es mucho peor, en especial en la categorización de mazos Salvaje, conteniendo un alto número de FN."
   ]
  },
  {
   "cell_type": "markdown",
   "metadata": {
    "id": "iAB52hV9H7pc"
   },
   "source": [
    "De manera preliminar podemos decir que el modelo con mejor rendimiento ha sido el árbol de decisión, aunque queda por ver si el comportamiento que presenta es realmente como se observa."
   ]
  },
  {
   "cell_type": "markdown",
   "metadata": {
    "id": "014oZCT91AUG"
   },
   "source": [
    "<a name=\"item8\"></a>\n",
    "## Trabajo realizado\n"
   ]
  },
  {
   "cell_type": "markdown",
   "metadata": {
    "id": "B1IxTSyRBJUG"
   },
   "source": [
    "Armin Rodríguez: Limpieza de datos y apoyo en exploración de datos.\n",
    "\n",
    "Rodrigo Valenzuela: Redacción introducción y presentación, desarrollo de preguntas, retroalimentación de cambios. \n",
    "\n",
    "Nicolás Hidalgo: Redacción y Exploración de datos \n",
    "\n",
    "Pablo Nahuelpán: Redacción de preguntas y propuestas, código de modelos."
   ]
  },
  {
   "cell_type": "markdown",
   "metadata": {
    "id": "aDALuQE4Zbq1"
   },
   "source": [
    "<a name=\"item9\"></a>\n",
    "# Referencias:\n",
    "\n",
    "[1] HeartStone. (2014, 11 marzo). [Software]. En Blizzard Entertainment (24.2). Peter McConnell. https://hearthstone.blizzard.com/es-es\n",
    "\n",
    "[2] HeathPwn. (2022). HeathPwn. https://www.hearthpwn.com/\n",
    "\n",
    "# Repositorio almacenado y dataset:\n",
    "\n",
    "https://raw.githubusercontent.com/ArminRodriguez1/ig_Datos/main/data.csv\n",
    "\n",
    "[3] History of Hearthstone. (2017, 6 julio). Kaggle. Recuperado 7 de octubre de 2022, de https://www.kaggle.com/datasets/romainvincent/history-of-hearthstone"
   ]
  },
  {
   "cell_type": "markdown",
   "metadata": {
    "id": "05-lm3amLJhD"
   },
   "source": [
    "<a name=\"item10\"></a>\n",
    "# Anexo:\n",
    "\n",
    "*   TP: True positive (Positivo verdadero)\n",
    "*   TN: True negative (Positivo negativo)\n",
    "*   FN: False negative (Falso negativo)"
   ]
  }
 ],
 "metadata": {
  "accelerator": "GPU",
  "colab": {
   "collapsed_sections": [],
   "provenance": []
  },
  "kernelspec": {
   "display_name": "Python 3 (ipykernel)",
   "language": "python",
   "name": "python3"
  },
  "language_info": {
   "codemirror_mode": {
    "name": "ipython",
    "version": 3
   },
   "file_extension": ".py",
   "mimetype": "text/x-python",
   "name": "python",
   "nbconvert_exporter": "python",
   "pygments_lexer": "ipython3",
   "version": "3.9.12"
  }
 },
 "nbformat": 4,
 "nbformat_minor": 1
}
